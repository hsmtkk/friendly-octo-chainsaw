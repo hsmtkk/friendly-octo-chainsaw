{
 "cells": [
  {
   "cell_type": "code",
   "execution_count": null,
   "id": "3757cd7e-6f3d-4a6b-8318-3aa7f8ad17b1",
   "metadata": {},
   "outputs": [],
   "source": []
  }
 ],
 "metadata": {
  "kernelspec": {
   "display_name": "Python 3",
   "language": "python",
   "name": "python3"
  },
  "language_info": {
   "name": ""
  }
 },
 "nbformat": 4,
 "nbformat_minor": 5
}
